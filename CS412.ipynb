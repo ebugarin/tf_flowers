{
  "nbformat": 4,
  "nbformat_minor": 0,
  "metadata": {
    "colab": {
      "name": "CS412.ipynb",
      "provenance": [],
      "authorship_tag": "ABX9TyOIJG0WbdH1HsFNiBPTOtYX",
      "include_colab_link": true
    },
    "kernelspec": {
      "name": "python3",
      "display_name": "Python 3"
    },
    "language_info": {
      "name": "python"
    }
  },
  "cells": [
    {
      "cell_type": "markdown",
      "metadata": {
        "id": "view-in-github",
        "colab_type": "text"
      },
      "source": [
        "<a href=\"https://colab.research.google.com/github/ebugarin/tf_flowers/blob/main/CS412.ipynb\" target=\"_parent\"><img src=\"https://colab.research.google.com/assets/colab-badge.svg\" alt=\"Open In Colab\"/></a>"
      ]
    },
    {
      "cell_type": "code",
      "execution_count": 1,
      "metadata": {
        "id": "9yrFMZ7133rx"
      },
      "outputs": [],
      "source": [
        "import tensorflow as tf\n",
        "import os"
      ]
    },
    {
      "cell_type": "code",
      "source": [
        "_URL = \"https://storage.googleapis.com/download.tensorflow.org/example_images/flower_photos.tgz\"\n",
        "zip_file = tf.keras.utils.get_file(origin=_URL, fname=\"flower_photos.tgz\", extract=True, cache_subdir=\"/content\")\n",
        "base_dir = os.path.join(os.path.dirname(zip_file), \"flower_photos\")"
      ],
      "metadata": {
        "colab": {
          "base_uri": "https://localhost:8080/"
        },
        "id": "FldQXgi94x5x",
        "outputId": "edebaa17-71dc-4db2-fa35-f120f25d0911"
      },
      "execution_count": 3,
      "outputs": [
        {
          "output_type": "stream",
          "name": "stdout",
          "text": [
            "Downloading data from https://storage.googleapis.com/download.tensorflow.org/example_images/flower_photos.tgz\n",
            "228818944/228813984 [==============================] - 1s 0us/step\n",
            "228827136/228813984 [==============================] - 1s 0us/step\n"
          ]
        }
      ]
    },
    {
      "cell_type": "code",
      "source": [
        "IMAGE_SIZE = 224 \n",
        "BATCH_SIZE = 64\n",
        "\n",
        "datagen = tf.keras.preprocessing.image.ImageDataGenerator(\n",
        "rescale=1./255, \n",
        "validation_split=0.2\n",
        ")\n",
        "\n",
        "train_generator = datagen.flow_from_directory(\n",
        "base_dir, \n",
        "target_size=(IMAGE_SIZE, IMAGE_SIZE), \n",
        "batch_size=BATCH_SIZE, \n",
        "subset='training'\n",
        ")\n",
        "\n",
        "val_generator = datagen.flow_from_directory(\n",
        "base_dir, \n",
        "target_size=(IMAGE_SIZE, IMAGE_SIZE), \n",
        "batch_size=BATCH_SIZE, \n",
        "subset='validation'\n",
        ")"
      ],
      "metadata": {
        "colab": {
          "base_uri": "https://localhost:8080/"
        },
        "id": "cetEnJka4yNA",
        "outputId": "6cfd2ef5-692d-431c-9da0-e83ce6006a39"
      },
      "execution_count": 4,
      "outputs": [
        {
          "output_type": "stream",
          "name": "stdout",
          "text": [
            "Found 2939 images belonging to 5 classes.\n",
            "Found 731 images belonging to 5 classes.\n"
          ]
        }
      ]
    },
    {
      "cell_type": "code",
      "source": [
        "print(train_generator.class_indices) \n",
        "labels = '\\n'.join(sorted(train_generator.class_indices.keys())) \n",
        "labels \n",
        "with open('labels.txt', 'w') as f:\n",
        "  f.write(labels)\n",
        "\n"
      ],
      "metadata": {
        "colab": {
          "base_uri": "https://localhost:8080/"
        },
        "id": "JX3iugBgDUtv",
        "outputId": "591bfaff-69be-4091-c38f-e36955654eda"
      },
      "execution_count": 5,
      "outputs": [
        {
          "output_type": "stream",
          "name": "stdout",
          "text": [
            "{'daisy': 0, 'dandelion': 1, 'roses': 2, 'sunflowers': 3, 'tulips': 4}\n"
          ]
        }
      ]
    },
    {
      "cell_type": "code",
      "source": [
        "IMG_SHAPE = (IMAGE_SIZE, IMAGE_SIZE, 3)\n",
        "base_model = tf.keras. applications.MobileNetV2(input_shape=IMG_SHAPE,\n",
        "                                                include_top=False, \n",
        "                                                weights='imagenet')"
      ],
      "metadata": {
        "colab": {
          "base_uri": "https://localhost:8080/"
        },
        "id": "B67Qx3VwDU42",
        "outputId": "58260a6d-c9bd-4da6-d972-89652adb17d9"
      },
      "execution_count": 7,
      "outputs": [
        {
          "output_type": "stream",
          "name": "stdout",
          "text": [
            "Downloading data from https://storage.googleapis.com/tensorflow/keras-applications/mobilenet_v2/mobilenet_v2_weights_tf_dim_ordering_tf_kernels_1.0_224_no_top.h5\n",
            "9412608/9406464 [==============================] - 0s 0us/step\n",
            "9420800/9406464 [==============================] - 0s 0us/step\n"
          ]
        }
      ]
    },
    {
      "cell_type": "code",
      "source": [
        "base_model.trainable = False"
      ],
      "metadata": {
        "id": "SguCSnS8DVA9"
      },
      "execution_count": 8,
      "outputs": []
    },
    {
      "cell_type": "code",
      "source": [
        "model = tf.keras. Sequential([\n",
        "base_model, \n",
        "tf.keras.layers.Conv2D(32, 3, activation='relu'), \n",
        "tf.keras.layers. Dropout(0.2), \n",
        "tf.keras.layers.GlobalAveragePooling2D(),\n",
        "tf.keras.layers.Dense(5, activation=\"softmax\") \n",
        "])"
      ],
      "metadata": {
        "id": "XTD-kibeDVHW"
      },
      "execution_count": 9,
      "outputs": []
    },
    {
      "cell_type": "code",
      "source": [
        "model.compile(optimizer=tf.keras.optimizers.Adam(),\n",
        "              loss=\"categorical_crossentropy\", \n",
        "              metrics=['accuracy'])"
      ],
      "metadata": {
        "id": "h3GZerIYEMmf"
      },
      "execution_count": 10,
      "outputs": []
    },
    {
      "cell_type": "code",
      "source": [
        "epochs = 5\n",
        "history = model.fit(train_generator,\n",
        "                    epochs = epochs,\n",
        "                    validation_data=val_generator)"
      ],
      "metadata": {
        "colab": {
          "base_uri": "https://localhost:8080/"
        },
        "id": "ON-EwV9kEMuO",
        "outputId": "df05c046-1c08-4a76-a4bd-71cb9baf09cd"
      },
      "execution_count": 11,
      "outputs": [
        {
          "output_type": "stream",
          "name": "stdout",
          "text": [
            "Epoch 1/5\n",
            "46/46 [==============================] - 103s 2s/step - loss: 1.2680 - accuracy: 0.5920 - val_loss: 0.7038 - val_accuracy: 0.7141\n",
            "Epoch 2/5\n",
            "46/46 [==============================] - 102s 2s/step - loss: 0.4635 - accuracy: 0.8323 - val_loss: 0.4548 - val_accuracy: 0.8345\n",
            "Epoch 3/5\n",
            "46/46 [==============================] - 98s 2s/step - loss: 0.2708 - accuracy: 0.9112 - val_loss: 0.4941 - val_accuracy: 0.8372\n",
            "Epoch 4/5\n",
            "46/46 [==============================] - 98s 2s/step - loss: 0.1802 - accuracy: 0.9405 - val_loss: 0.4393 - val_accuracy: 0.8536\n",
            "Epoch 5/5\n",
            "46/46 [==============================] - 98s 2s/step - loss: 0.1263 - accuracy: 0.9595 - val_loss: 0.4370 - val_accuracy: 0.8659\n"
          ]
        }
      ]
    },
    {
      "cell_type": "code",
      "source": [
        ""
      ],
      "metadata": {
        "id": "AmEDu2t3EM1g"
      },
      "execution_count": null,
      "outputs": []
    }
  ]
}